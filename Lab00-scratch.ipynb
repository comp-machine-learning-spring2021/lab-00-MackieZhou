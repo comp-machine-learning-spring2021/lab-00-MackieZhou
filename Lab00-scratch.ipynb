{
 "cells": [
  {
   "cell_type": "markdown",
   "id": "partial-manhattan",
   "metadata": {},
   "source": [
    "# Hello Jupyter Notebook"
   ]
  },
  {
   "cell_type": "code",
   "execution_count": 1,
   "id": "decimal-dance",
   "metadata": {},
   "outputs": [
    {
     "name": "stdout",
     "output_type": "stream",
     "text": [
      "Hello Jupyter\n"
     ]
    }
   ],
   "source": [
    "print (\"Hello Jupyter\")"
   ]
  },
  {
   "cell_type": "markdown",
   "id": "worth-portfolio",
   "metadata": {},
   "source": [
    "# Get familiar with numpy"
   ]
  },
  {
   "cell_type": "code",
   "execution_count": 2,
   "id": "complimentary-colors",
   "metadata": {},
   "outputs": [],
   "source": [
    "import numpy as np"
   ]
  },
  {
   "cell_type": "markdown",
   "id": "speaking-respondent",
   "metadata": {},
   "source": [
    "### create a 2-D numpy array"
   ]
  },
  {
   "cell_type": "code",
   "execution_count": 3,
   "id": "swiss-trigger",
   "metadata": {},
   "outputs": [
    {
     "name": "stdout",
     "output_type": "stream",
     "text": [
      "[[1 2 3 4]\n",
      " [5 6 7 8]]\n"
     ]
    }
   ],
   "source": [
    "myMatrix = np.array([[1, 2, 3, 4],\n",
    "                     [5, 6, 7, 8]])\n",
    "print (myMatrix)"
   ]
  },
  {
   "cell_type": "markdown",
   "id": "innocent-gallery",
   "metadata": {},
   "source": [
    "### write a simple python function that calculates the square of a numebr"
   ]
  },
  {
   "cell_type": "code",
   "execution_count": 4,
   "id": "rapid-seating",
   "metadata": {},
   "outputs": [],
   "source": [
    "def square(x):\n",
    "    return x**2"
   ]
  },
  {
   "cell_type": "code",
   "execution_count": 5,
   "id": "legal-roman",
   "metadata": {},
   "outputs": [
    {
     "name": "stdout",
     "output_type": "stream",
     "text": [
      "324\n"
     ]
    }
   ],
   "source": [
    "print (square(18))"
   ]
  }
 ],
 "metadata": {
  "kernelspec": {
   "display_name": "Python 3",
   "language": "python",
   "name": "python3"
  },
  "language_info": {
   "codemirror_mode": {
    "name": "ipython",
    "version": 3
   },
   "file_extension": ".py",
   "mimetype": "text/x-python",
   "name": "python",
   "nbconvert_exporter": "python",
   "pygments_lexer": "ipython3",
   "version": "3.7.9"
  }
 },
 "nbformat": 4,
 "nbformat_minor": 5
}
